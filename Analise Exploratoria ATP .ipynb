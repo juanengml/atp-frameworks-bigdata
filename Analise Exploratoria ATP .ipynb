{
 "cells": [
  {
   "cell_type": "markdown",
   "metadata": {},
   "source": [
    "### Test Check PySpark"
   ]
  },
  {
   "cell_type": "code",
   "execution_count": 1,
   "metadata": {},
   "outputs": [],
   "source": [
    "\n",
    "import os \n",
    "os.environ['PYSPARK_PYTHON'] = '/usr/bin/python3.7'\n",
    "os.environ['PYSPARK_DRIVER_PYTHON'] = '/usr/bin/python3.7'"
   ]
  },
  {
   "cell_type": "code",
   "execution_count": 2,
   "metadata": {},
   "outputs": [],
   "source": [
    "\n",
    "def check():\n",
    "  try:  \n",
    "    from pyspark import SparkContext\n",
    "    sc = SparkContext(\"local\", \"First App\")\n",
    "    logFile = \"file:///home2/ead2020/SEM2/juan.manoel/shakespeare.txt\"\n",
    "    logData = sc.textFile(logFile).cache()\n",
    "    numAs = logData.filter(lambda s: 'a' in s).count()\n",
    "    return \"PySpark its OK !!! \" if type(numAs) == int else \"FAIL PySpark !!!\"\n",
    "  except ValueError as e:\n",
    "    print(\"FAIL\")    \n",
    "        "
   ]
  },
  {
   "cell_type": "code",
   "execution_count": 3,
   "metadata": {},
   "outputs": [
    {
     "data": {
      "text/plain": [
       "'PySpark its OK !!! '"
      ]
     },
     "execution_count": 3,
     "metadata": {},
     "output_type": "execute_result"
    }
   ],
   "source": [
    "check()"
   ]
  },
  {
   "cell_type": "code",
   "execution_count": null,
   "metadata": {},
   "outputs": [],
   "source": []
  },
  {
   "cell_type": "code",
   "execution_count": 213,
   "metadata": {},
   "outputs": [
    {
     "data": {
      "text/plain": [
       "True"
      ]
     },
     "execution_count": 213,
     "metadata": {},
     "output_type": "execute_result"
    }
   ],
   "source": []
  },
  {
   "cell_type": "markdown",
   "metadata": {},
   "source": [
    "## Analise Exploratoria ATP Dataset\n",
    "\n"
   ]
  },
  {
   "cell_type": "markdown",
   "metadata": {},
   "source": [
    "## Dicionario de Dados\n",
    "\n",
    "O dicionário de dados deste dataset é declarado a seguir:\n",
    "Campo \t\n",
    "\n",
    "| Campo | DESCRIÇÃO |\n",
    "|-------|-----------|\n",
    "| Dia   |  Dia da ocorrência     |\n",
    "| Mes   |  Mes da ocorrência     |\n",
    "| Ano   |  Ano da ocorrência     |\n",
    "| Bloco |Região da ocorrência  |   Região da ocorrência \n",
    "| Tipo  |  Tipo da ocorrência criminal \n",
    "| Descrição |   Breve descrição da ocorrência \n",
    "| Descrição da localização | Descrição da localização da ocorrência (rua, por exemplo) \n",
    "| Latitude |   Localização da ocorrência \n",
    "| Longitude |  Localização da ocorrência "
   ]
  },
  {
   "cell_type": "code",
   "execution_count": 218,
   "metadata": {},
   "outputs": [],
   "source": [
    "from os import chdir "
   ]
  },
  {
   "cell_type": "code",
   "execution_count": 40,
   "metadata": {},
   "outputs": [],
   "source": [
    "#!pip3 install matplotlib\n",
    "\n",
    "%matplotlib inline \n",
    "import matplotlib.pyplot as plt\n"
   ]
  },
  {
   "cell_type": "code",
   "execution_count": null,
   "metadata": {},
   "outputs": [],
   "source": []
  },
  {
   "cell_type": "code",
   "execution_count": 219,
   "metadata": {},
   "outputs": [],
   "source": [
    "chdir(\"/home/Disciplinas/Frameworks/spark\")"
   ]
  },
  {
   "cell_type": "code",
   "execution_count": 21,
   "metadata": {},
   "outputs": [],
   "source": [
    "ocorrencias_criminais = \"file:///home/Disciplinas/Frameworks/sparkoc/ocorrencias_criminais.csv\"\n",
    "#logData_ocorrencias = sc.textFile(ocorrencias_criminais).cache()"
   ]
  },
  {
   "cell_type": "code",
   "execution_count": 220,
   "metadata": {},
   "outputs": [],
   "source": [
    "import pandas as pd\n",
    "filename = \"ocorrencias_criminais.csv\"\n",
    "header_list = [\n",
    "    \"Dia\", \n",
    "    \"Mes\",\n",
    "    \"Ano\",\n",
    "    \"Bloco\",\n",
    "    \"Tipo\",\n",
    "    \"Descricao\",\n",
    "    \"Descrição_da_localizacao\",\n",
    "    \"Latitude\",\n",
    "    \"Longitude\",\n",
    "]\n",
    "df = pd.read_csv(filename, sep=';', names=header_list, low_memory=False)"
   ]
  },
  {
   "cell_type": "code",
   "execution_count": 221,
   "metadata": {},
   "outputs": [
    {
     "data": {
      "text/html": [
       "<div>\n",
       "<style scoped>\n",
       "    .dataframe tbody tr th:only-of-type {\n",
       "        vertical-align: middle;\n",
       "    }\n",
       "\n",
       "    .dataframe tbody tr th {\n",
       "        vertical-align: top;\n",
       "    }\n",
       "\n",
       "    .dataframe thead th {\n",
       "        text-align: right;\n",
       "    }\n",
       "</style>\n",
       "<table border=\"1\" class=\"dataframe\">\n",
       "  <thead>\n",
       "    <tr style=\"text-align: right;\">\n",
       "      <th></th>\n",
       "      <th>Dia</th>\n",
       "      <th>Mes</th>\n",
       "      <th>Ano</th>\n",
       "      <th>Bloco</th>\n",
       "      <th>Tipo</th>\n",
       "      <th>Descricao</th>\n",
       "      <th>Descrição_da_localizacao</th>\n",
       "      <th>Latitude</th>\n",
       "      <th>Longitude</th>\n",
       "    </tr>\n",
       "  </thead>\n",
       "  <tbody>\n",
       "    <tr>\n",
       "      <th>0</th>\n",
       "      <td>18</td>\n",
       "      <td>3</td>\n",
       "      <td>2015</td>\n",
       "      <td>047XX W OHIO ST</td>\n",
       "      <td>BATTERY</td>\n",
       "      <td>AGGRAVATED: HANDGUN</td>\n",
       "      <td>STREET</td>\n",
       "      <td>41.891398861</td>\n",
       "      <td>-87.744384567</td>\n",
       "    </tr>\n",
       "    <tr>\n",
       "      <th>1</th>\n",
       "      <td>18</td>\n",
       "      <td>3</td>\n",
       "      <td>2015</td>\n",
       "      <td>066XX S MARSHFIELD AVE</td>\n",
       "      <td>OTHER OFFENSE</td>\n",
       "      <td>PAROLE VIOLATION</td>\n",
       "      <td>STREET</td>\n",
       "      <td>41.773371528</td>\n",
       "      <td>-87.665319468</td>\n",
       "    </tr>\n",
       "    <tr>\n",
       "      <th>2</th>\n",
       "      <td>18</td>\n",
       "      <td>3</td>\n",
       "      <td>2015</td>\n",
       "      <td>044XX S LAKE PARK AVE</td>\n",
       "      <td>BATTERY</td>\n",
       "      <td>DOMESTIC BATTERY SIMPLE</td>\n",
       "      <td>APARTMENT</td>\n",
       "      <td>41.81386068</td>\n",
       "      <td>-87.596642837</td>\n",
       "    </tr>\n",
       "    <tr>\n",
       "      <th>3</th>\n",
       "      <td>18</td>\n",
       "      <td>3</td>\n",
       "      <td>2015</td>\n",
       "      <td>051XX S MICHIGAN AVE</td>\n",
       "      <td>BATTERY</td>\n",
       "      <td>SIMPLE</td>\n",
       "      <td>APARTMENT</td>\n",
       "      <td>41.800802415</td>\n",
       "      <td>-87.622619343</td>\n",
       "    </tr>\n",
       "    <tr>\n",
       "      <th>4</th>\n",
       "      <td>18</td>\n",
       "      <td>3</td>\n",
       "      <td>2015</td>\n",
       "      <td>047XX W ADAMS ST</td>\n",
       "      <td>ROBBERY</td>\n",
       "      <td>ARMED: HANDGUN</td>\n",
       "      <td>SIDEWALK</td>\n",
       "      <td>41.878064761</td>\n",
       "      <td>-87.743354013</td>\n",
       "    </tr>\n",
       "  </tbody>\n",
       "</table>\n",
       "</div>"
      ],
      "text/plain": [
       "   Dia  Mes   Ano                   Bloco           Tipo  \\\n",
       "0   18    3  2015         047XX W OHIO ST        BATTERY   \n",
       "1   18    3  2015  066XX S MARSHFIELD AVE  OTHER OFFENSE   \n",
       "2   18    3  2015   044XX S LAKE PARK AVE        BATTERY   \n",
       "3   18    3  2015    051XX S MICHIGAN AVE        BATTERY   \n",
       "4   18    3  2015        047XX W ADAMS ST        ROBBERY   \n",
       "\n",
       "                 Descricao Descrição_da_localizacao      Latitude  \\\n",
       "0      AGGRAVATED: HANDGUN                   STREET  41.891398861   \n",
       "1         PAROLE VIOLATION                   STREET  41.773371528   \n",
       "2  DOMESTIC BATTERY SIMPLE                APARTMENT   41.81386068   \n",
       "3                   SIMPLE                APARTMENT  41.800802415   \n",
       "4           ARMED: HANDGUN                 SIDEWALK  41.878064761   \n",
       "\n",
       "       Longitude  \n",
       "0  -87.744384567  \n",
       "1  -87.665319468  \n",
       "2  -87.596642837  \n",
       "3  -87.622619343  \n",
       "4  -87.743354013  "
      ]
     },
     "execution_count": 221,
     "metadata": {},
     "output_type": "execute_result"
    }
   ],
   "source": [
    "df.head()"
   ]
  },
  {
   "cell_type": "code",
   "execution_count": 12,
   "metadata": {},
   "outputs": [
    {
     "data": {
      "text/plain": [
       "(6705412, 9)"
      ]
     },
     "execution_count": 12,
     "metadata": {},
     "output_type": "execute_result"
    }
   ],
   "source": [
    "df.shape"
   ]
  },
  {
   "cell_type": "code",
   "execution_count": 223,
   "metadata": {},
   "outputs": [
    {
     "name": "stdout",
     "output_type": "stream",
     "text": [
      "/home/Disciplinas/Frameworks/spark\r\n"
     ]
    }
   ],
   "source": [
    "!pwd"
   ]
  },
  {
   "cell_type": "code",
   "execution_count": 224,
   "metadata": {},
   "outputs": [],
   "source": [
    "#.to_csv(\"~/Ocorrencias_criminais.csv\", index=False)"
   ]
  },
  {
   "cell_type": "code",
   "execution_count": 228,
   "metadata": {},
   "outputs": [],
   "source": [
    "df_n = pd.read_csv(\"~/Ocorrencias_criminais.csv\",  low_memory=False)"
   ]
  },
  {
   "cell_type": "code",
   "execution_count": 229,
   "metadata": {},
   "outputs": [
    {
     "data": {
      "text/html": [
       "<div>\n",
       "<style scoped>\n",
       "    .dataframe tbody tr th:only-of-type {\n",
       "        vertical-align: middle;\n",
       "    }\n",
       "\n",
       "    .dataframe tbody tr th {\n",
       "        vertical-align: top;\n",
       "    }\n",
       "\n",
       "    .dataframe thead th {\n",
       "        text-align: right;\n",
       "    }\n",
       "</style>\n",
       "<table border=\"1\" class=\"dataframe\">\n",
       "  <thead>\n",
       "    <tr style=\"text-align: right;\">\n",
       "      <th></th>\n",
       "      <th>Dia</th>\n",
       "      <th>Mes</th>\n",
       "      <th>Ano</th>\n",
       "      <th>Bloco</th>\n",
       "      <th>Tipo</th>\n",
       "      <th>Descricao</th>\n",
       "      <th>Descrição_da_localizacao</th>\n",
       "      <th>Latitude</th>\n",
       "      <th>Longitude</th>\n",
       "    </tr>\n",
       "  </thead>\n",
       "  <tbody>\n",
       "    <tr>\n",
       "      <th>0</th>\n",
       "      <td>18</td>\n",
       "      <td>3</td>\n",
       "      <td>2015</td>\n",
       "      <td>047XX W OHIO ST</td>\n",
       "      <td>BATTERY</td>\n",
       "      <td>AGGRAVATED: HANDGUN</td>\n",
       "      <td>STREET</td>\n",
       "      <td>41.891398861</td>\n",
       "      <td>-87.744384567</td>\n",
       "    </tr>\n",
       "    <tr>\n",
       "      <th>1</th>\n",
       "      <td>18</td>\n",
       "      <td>3</td>\n",
       "      <td>2015</td>\n",
       "      <td>066XX S MARSHFIELD AVE</td>\n",
       "      <td>OTHER OFFENSE</td>\n",
       "      <td>PAROLE VIOLATION</td>\n",
       "      <td>STREET</td>\n",
       "      <td>41.773371528</td>\n",
       "      <td>-87.665319468</td>\n",
       "    </tr>\n",
       "    <tr>\n",
       "      <th>2</th>\n",
       "      <td>18</td>\n",
       "      <td>3</td>\n",
       "      <td>2015</td>\n",
       "      <td>044XX S LAKE PARK AVE</td>\n",
       "      <td>BATTERY</td>\n",
       "      <td>DOMESTIC BATTERY SIMPLE</td>\n",
       "      <td>APARTMENT</td>\n",
       "      <td>41.81386068</td>\n",
       "      <td>-87.596642837</td>\n",
       "    </tr>\n",
       "    <tr>\n",
       "      <th>3</th>\n",
       "      <td>18</td>\n",
       "      <td>3</td>\n",
       "      <td>2015</td>\n",
       "      <td>051XX S MICHIGAN AVE</td>\n",
       "      <td>BATTERY</td>\n",
       "      <td>SIMPLE</td>\n",
       "      <td>APARTMENT</td>\n",
       "      <td>41.800802415</td>\n",
       "      <td>-87.622619343</td>\n",
       "    </tr>\n",
       "    <tr>\n",
       "      <th>4</th>\n",
       "      <td>18</td>\n",
       "      <td>3</td>\n",
       "      <td>2015</td>\n",
       "      <td>047XX W ADAMS ST</td>\n",
       "      <td>ROBBERY</td>\n",
       "      <td>ARMED: HANDGUN</td>\n",
       "      <td>SIDEWALK</td>\n",
       "      <td>41.878064761</td>\n",
       "      <td>-87.743354013</td>\n",
       "    </tr>\n",
       "  </tbody>\n",
       "</table>\n",
       "</div>"
      ],
      "text/plain": [
       "   Dia  Mes   Ano                   Bloco           Tipo  \\\n",
       "0   18    3  2015         047XX W OHIO ST        BATTERY   \n",
       "1   18    3  2015  066XX S MARSHFIELD AVE  OTHER OFFENSE   \n",
       "2   18    3  2015   044XX S LAKE PARK AVE        BATTERY   \n",
       "3   18    3  2015    051XX S MICHIGAN AVE        BATTERY   \n",
       "4   18    3  2015        047XX W ADAMS ST        ROBBERY   \n",
       "\n",
       "                 Descricao Descrição_da_localizacao      Latitude  \\\n",
       "0      AGGRAVATED: HANDGUN                   STREET  41.891398861   \n",
       "1         PAROLE VIOLATION                   STREET  41.773371528   \n",
       "2  DOMESTIC BATTERY SIMPLE                APARTMENT   41.81386068   \n",
       "3                   SIMPLE                APARTMENT  41.800802415   \n",
       "4           ARMED: HANDGUN                 SIDEWALK  41.878064761   \n",
       "\n",
       "       Longitude  \n",
       "0  -87.744384567  \n",
       "1  -87.665319468  \n",
       "2  -87.596642837  \n",
       "3  -87.622619343  \n",
       "4  -87.743354013  "
      ]
     },
     "execution_count": 229,
     "metadata": {},
     "output_type": "execute_result"
    }
   ],
   "source": [
    "df_n.head()"
   ]
  },
  {
   "cell_type": "code",
   "execution_count": 44,
   "metadata": {},
   "outputs": [
    {
     "name": "stdout",
     "output_type": "stream",
     "text": [
      "Defaulting to user installation because normal site-packages is not writeable\n",
      "Collecting seaborn\n",
      "  Downloading seaborn-0.11.0-py3-none-any.whl (283 kB)\n",
      "\u001b[K     |████████████████████████████████| 283 kB 12.8 MB/s eta 0:00:01\n",
      "\u001b[?25hCollecting scipy>=1.0\n",
      "  Downloading scipy-1.5.3-cp37-cp37m-manylinux1_x86_64.whl (25.9 MB)\n",
      "\u001b[K     |████████████████████████████████| 25.9 MB 32.9 MB/s eta 0:00:01                         | 1.2 MB 32.9 MB/s eta 0:00:01��███▍                          | 4.3 MB 32.9 MB/s eta 0:00:01        | 6.7 MB 32.9 MB/s eta 0:00:01              | 9.4 MB 32.9 MB/s eta 0:00:0100:01�████████▊           | 16.7 MB 32.9 MB/s eta 0:00:01 32.9 MB/s eta 0:00:01�█████████████████████████▋| 25.5 MB 32.9 MB/s eta 0:00:01\n",
      "\u001b[?25hRequirement already satisfied: matplotlib>=2.2 in /home2/ead2020/SEM2/juan.manoel/.local/lib/python3.7/site-packages (from seaborn) (3.3.2)\n",
      "Requirement already satisfied: pandas>=0.23 in /usr/local/lib/python3.7/site-packages (from seaborn) (1.1.2)\n",
      "Requirement already satisfied: numpy>=1.15 in /usr/local/lib/python3.7/site-packages (from seaborn) (1.19.2)\n",
      "Requirement already satisfied: python-dateutil>=2.1 in /usr/local/lib/python3.7/site-packages (from matplotlib>=2.2->seaborn) (2.8.1)\n",
      "Requirement already satisfied: pyparsing!=2.0.4,!=2.1.2,!=2.1.6,>=2.0.3 in /usr/local/lib/python3.7/site-packages (from matplotlib>=2.2->seaborn) (2.4.7)\n",
      "Requirement already satisfied: kiwisolver>=1.0.1 in /home2/ead2020/SEM2/juan.manoel/.local/lib/python3.7/site-packages (from matplotlib>=2.2->seaborn) (1.2.0)\n",
      "Requirement already satisfied: pillow>=6.2.0 in /home2/ead2020/SEM2/juan.manoel/.local/lib/python3.7/site-packages (from matplotlib>=2.2->seaborn) (8.0.1)\n",
      "Requirement already satisfied: certifi>=2020.06.20 in /usr/local/lib/python3.7/site-packages (from matplotlib>=2.2->seaborn) (2020.6.20)\n",
      "Requirement already satisfied: cycler>=0.10 in /home2/ead2020/SEM2/juan.manoel/.local/lib/python3.7/site-packages (from matplotlib>=2.2->seaborn) (0.10.0)\n",
      "Requirement already satisfied: pytz>=2017.2 in /usr/local/lib/python3.7/site-packages (from pandas>=0.23->seaborn) (2020.1)\n",
      "Requirement already satisfied: six>=1.5 in /usr/local/lib/python3.7/site-packages (from python-dateutil>=2.1->matplotlib>=2.2->seaborn) (1.15.0)\n",
      "Installing collected packages: scipy, seaborn\n",
      "Successfully installed scipy-1.5.3 seaborn-0.11.0\n",
      "\u001b[33mWARNING: You are using pip version 20.2.2; however, version 20.2.4 is available.\n",
      "You should consider upgrading via the '/usr/local/bin/python3.7 -m pip install --upgrade pip' command.\u001b[0m\n"
     ]
    }
   ],
   "source": [
    "!pip3 install seaborn"
   ]
  },
  {
   "cell_type": "code",
   "execution_count": 127,
   "metadata": {},
   "outputs": [],
   "source": [
    "import seaborn as sns; sns.set_theme()\n",
    "import matplotlib.pyplot as plt"
   ]
  },
  {
   "cell_type": "markdown",
   "metadata": {},
   "source": [
    "## Quantidade de crimes por ano?\n"
   ]
  },
  {
   "cell_type": "code",
   "execution_count": 68,
   "metadata": {},
   "outputs": [
    {
     "data": {
      "image/png": "[encoded data removed]",
      "text/plain": [
       "<Figure size 432x288 with 1 Axes>"
      ]
     },
     "metadata": {},
     "output_type": "display_data"
    }
   ],
   "source": [
    "#df['Ano'].plot()\n",
    "df['Ano'].value_counts().plot();"
   ]
  },
  {
   "cell_type": "code",
   "execution_count": null,
   "metadata": {},
   "outputs": [],
   "source": []
  },
  {
   "cell_type": "markdown",
   "metadata": {},
   "source": [
    "## Quantidade de crimes por ano que sejam do tipo NARCOTICS?\n"
   ]
  },
  {
   "cell_type": "code",
   "execution_count": 72,
   "metadata": {},
   "outputs": [],
   "source": [
    "narcoticos = df[['Ano','Tipo']]"
   ]
  },
  {
   "cell_type": "code",
   "execution_count": 79,
   "metadata": {},
   "outputs": [
    {
     "data": {
      "text/plain": [
       "THEFT                                1406756\n",
       "BATTERY                              1226120\n",
       "CRIMINAL DAMAGE                       771496\n",
       "NARCOTICS                             710592\n",
       "OTHER OFFENSE                         416726\n",
       "ASSAULT                               415668\n",
       "BURGLARY                              387774\n",
       "MOTOR VEHICLE THEFT                   313278\n",
       "ROBBERY                               254092\n",
       "DECEPTIVE PRACTICE                    252350\n",
       "CRIMINAL TRESPASS                     193172\n",
       "WEAPONS VIOLATION                      69356\n",
       "PROSTITUTION                           68898\n",
       "PUBLIC PEACE VIOLATION                 47578\n",
       "OFFENSE INVOLVING CHILDREN             43086\n",
       "CRIM SEXUAL ASSAULT                    25446\n",
       "SEX OFFENSE                            24098\n",
       "INTERFERENCE WITH PUBLIC OFFICER       14830\n",
       "GAMBLING                               14642\n",
       "LIQUOR LAW VIOLATION                   13906\n",
       "ARSON                                  11122\n",
       "HOMICIDE                                9200\n",
       "KIDNAPPING                              6706\n",
       "INTIMIDATION                            3918\n",
       "STALKING                                3316\n",
       "OBSCENITY                                550\n",
       "CONCEALED CARRY LICENSE VIOLATION        198\n",
       "PUBLIC INDECENCY                         170\n",
       "OTHER NARCOTIC VIOLATION                 136\n",
       "NON-CRIMINAL                             124\n",
       "NON - CRIMINAL                            46\n",
       "HUMAN TRAFFICKING                         34\n",
       "RITUALISM                                 22\n",
       "NON-CRIMINAL (SUBJECT SPECIFIED)           6\n",
       "Name: Tipo, dtype: int64"
      ]
     },
     "execution_count": 79,
     "metadata": {},
     "output_type": "execute_result"
    }
   ],
   "source": [
    "narcoticos['Tipo'].value_counts()"
   ]
  },
  {
   "cell_type": "code",
   "execution_count": 89,
   "metadata": {},
   "outputs": [
    {
     "data": {
      "text/plain": [
       "Ano   Tipo     \n",
       "2004  NARCOTICS    58500\n",
       "2005  NARCOTICS    57266\n",
       "2006  NARCOTICS    55966\n",
       "2007  NARCOTICS    55936\n",
       "2003  NARCOTICS    55342\n",
       "2001  NARCOTICS    50996\n",
       "2002  NARCOTICS    50086\n",
       "2008  NARCOTICS    45876\n",
       "2010  NARCOTICS    44344\n",
       "2009  NARCOTICS    42708\n",
       "2011  NARCOTICS    38916\n",
       "2012  NARCOTICS    36490\n",
       "2013  NARCOTICS    34778\n",
       "2014  NARCOTICS    29752\n",
       "2015  NARCOTICS    21986\n",
       "2016  NARCOTICS    13988\n",
       "2017  NARCOTICS    11902\n",
       "2018  NARCOTICS     5760\n",
       "dtype: int64"
      ]
     },
     "execution_count": 89,
     "metadata": {},
     "output_type": "execute_result"
    }
   ],
   "source": [
    "narcoticos[narcoticos['Tipo'] == 'NARCOTICS'].value_counts()"
   ]
  },
  {
   "cell_type": "markdown",
   "metadata": {},
   "source": [
    "## Quantidade de crimes por ano que sejam do tipo NARCOTICS e tenham ocorrido em dias pares?\n"
   ]
  },
  {
   "cell_type": "code",
   "execution_count": 95,
   "metadata": {},
   "outputs": [],
   "source": [
    "narcoticos_dia_par = df[['Ano','Tipo','Dia']]"
   ]
  },
  {
   "cell_type": "code",
   "execution_count": 100,
   "metadata": {},
   "outputs": [],
   "source": [
    "just_narco = narcoticos_dia_par[narcoticos_dia_par['Tipo'] == 'NARCOTICS']"
   ]
  },
  {
   "cell_type": "code",
   "execution_count": 111,
   "metadata": {},
   "outputs": [],
   "source": [
    "just_narco_par = just_narco[just_narco['Dia'] % 2 == 0]"
   ]
  },
  {
   "cell_type": "code",
   "execution_count": 119,
   "metadata": {},
   "outputs": [
    {
     "data": {
      "text/plain": [
       "Tipo       Ano \n",
       "NARCOTICS  2004    28296\n",
       "           2007    27736\n",
       "           2006    27648\n",
       "           2005    27610\n",
       "           2003    26726\n",
       "           2001    24732\n",
       "           2002    24610\n",
       "           2008    22302\n",
       "           2010    21632\n",
       "           2009    20894\n",
       "           2011    19330\n",
       "           2012    17884\n",
       "           2013    16822\n",
       "           2014    14644\n",
       "           2015    10746\n",
       "           2016     6690\n",
       "           2017     5732\n",
       "           2018     2678\n",
       "dtype: int64"
      ]
     },
     "execution_count": 119,
     "metadata": {},
     "output_type": "execute_result"
    }
   ],
   "source": [
    "just_narco_par[['Tipo','Ano']].value_counts()"
   ]
  },
  {
   "cell_type": "code",
   "execution_count": 120,
   "metadata": {},
   "outputs": [
    {
     "data": {
      "text/plain": [
       "Ano   Tipo       Dia\n",
       "2005  NARCOTICS  2      2216\n",
       "2004  NARCOTICS  6      2154\n",
       "2003  NARCOTICS  16     2138\n",
       "2007  NARCOTICS  10     2130\n",
       "2003  NARCOTICS  6      2118\n",
       "                        ... \n",
       "2018  NARCOTICS  16      156\n",
       "                 18      152\n",
       "                 28      150\n",
       "                 24      140\n",
       "                 30      120\n",
       "Length: 270, dtype: int64"
      ]
     },
     "execution_count": 120,
     "metadata": {},
     "output_type": "execute_result"
    }
   ],
   "source": [
    "just_narco_par.value_counts()"
   ]
  },
  {
   "cell_type": "markdown",
   "metadata": {},
   "source": [
    "## Mês com maior ocorrência de crimes?\n"
   ]
  },
  {
   "cell_type": "code",
   "execution_count": 122,
   "metadata": {},
   "outputs": [
    {
     "data": {
      "text/html": [
       "<div>\n",
       "<style scoped>\n",
       "    .dataframe tbody tr th:only-of-type {\n",
       "        vertical-align: middle;\n",
       "    }\n",
       "\n",
       "    .dataframe tbody tr th {\n",
       "        vertical-align: top;\n",
       "    }\n",
       "\n",
       "    .dataframe thead th {\n",
       "        text-align: right;\n",
       "    }\n",
       "</style>\n",
       "<table border=\"1\" class=\"dataframe\">\n",
       "  <thead>\n",
       "    <tr style=\"text-align: right;\">\n",
       "      <th></th>\n",
       "      <th>Dia</th>\n",
       "      <th>Mes</th>\n",
       "      <th>Ano</th>\n",
       "      <th>Bloco</th>\n",
       "      <th>Tipo</th>\n",
       "      <th>Descricao</th>\n",
       "      <th>Descrição_da_localizacao</th>\n",
       "      <th>Latitude</th>\n",
       "      <th>Longitude</th>\n",
       "    </tr>\n",
       "  </thead>\n",
       "  <tbody>\n",
       "    <tr>\n",
       "      <th>0</th>\n",
       "      <td>18</td>\n",
       "      <td>3</td>\n",
       "      <td>2015</td>\n",
       "      <td>047XX W OHIO ST</td>\n",
       "      <td>BATTERY</td>\n",
       "      <td>AGGRAVATED: HANDGUN</td>\n",
       "      <td>STREET</td>\n",
       "      <td>41.891398861</td>\n",
       "      <td>-87.744384567</td>\n",
       "    </tr>\n",
       "    <tr>\n",
       "      <th>1</th>\n",
       "      <td>18</td>\n",
       "      <td>3</td>\n",
       "      <td>2015</td>\n",
       "      <td>066XX S MARSHFIELD AVE</td>\n",
       "      <td>OTHER OFFENSE</td>\n",
       "      <td>PAROLE VIOLATION</td>\n",
       "      <td>STREET</td>\n",
       "      <td>41.773371528</td>\n",
       "      <td>-87.665319468</td>\n",
       "    </tr>\n",
       "    <tr>\n",
       "      <th>2</th>\n",
       "      <td>18</td>\n",
       "      <td>3</td>\n",
       "      <td>2015</td>\n",
       "      <td>044XX S LAKE PARK AVE</td>\n",
       "      <td>BATTERY</td>\n",
       "      <td>DOMESTIC BATTERY SIMPLE</td>\n",
       "      <td>APARTMENT</td>\n",
       "      <td>41.81386068</td>\n",
       "      <td>-87.596642837</td>\n",
       "    </tr>\n",
       "    <tr>\n",
       "      <th>3</th>\n",
       "      <td>18</td>\n",
       "      <td>3</td>\n",
       "      <td>2015</td>\n",
       "      <td>051XX S MICHIGAN AVE</td>\n",
       "      <td>BATTERY</td>\n",
       "      <td>SIMPLE</td>\n",
       "      <td>APARTMENT</td>\n",
       "      <td>41.800802415</td>\n",
       "      <td>-87.622619343</td>\n",
       "    </tr>\n",
       "    <tr>\n",
       "      <th>4</th>\n",
       "      <td>18</td>\n",
       "      <td>3</td>\n",
       "      <td>2015</td>\n",
       "      <td>047XX W ADAMS ST</td>\n",
       "      <td>ROBBERY</td>\n",
       "      <td>ARMED: HANDGUN</td>\n",
       "      <td>SIDEWALK</td>\n",
       "      <td>41.878064761</td>\n",
       "      <td>-87.743354013</td>\n",
       "    </tr>\n",
       "  </tbody>\n",
       "</table>\n",
       "</div>"
      ],
      "text/plain": [
       "   Dia  Mes   Ano                   Bloco           Tipo  \\\n",
       "0   18    3  2015         047XX W OHIO ST        BATTERY   \n",
       "1   18    3  2015  066XX S MARSHFIELD AVE  OTHER OFFENSE   \n",
       "2   18    3  2015   044XX S LAKE PARK AVE        BATTERY   \n",
       "3   18    3  2015    051XX S MICHIGAN AVE        BATTERY   \n",
       "4   18    3  2015        047XX W ADAMS ST        ROBBERY   \n",
       "\n",
       "                 Descricao Descrição_da_localizacao      Latitude  \\\n",
       "0      AGGRAVATED: HANDGUN                   STREET  41.891398861   \n",
       "1         PAROLE VIOLATION                   STREET  41.773371528   \n",
       "2  DOMESTIC BATTERY SIMPLE                APARTMENT   41.81386068   \n",
       "3                   SIMPLE                APARTMENT  41.800802415   \n",
       "4           ARMED: HANDGUN                 SIDEWALK  41.878064761   \n",
       "\n",
       "       Longitude  \n",
       "0  -87.744384567  \n",
       "1  -87.665319468  \n",
       "2  -87.596642837  \n",
       "3  -87.622619343  \n",
       "4  -87.743354013  "
      ]
     },
     "execution_count": 122,
     "metadata": {},
     "output_type": "execute_result"
    }
   ],
   "source": [
    "df.head()"
   ]
  },
  {
   "cell_type": "code",
   "execution_count": 126,
   "metadata": {},
   "outputs": [
    {
     "data": {
      "image/png": "[encoded data removed]",
      "text/plain": [
       "<Figure size 432x288 with 1 Axes>"
      ]
     },
     "metadata": {},
     "output_type": "display_data"
    }
   ],
   "source": [
    "df[['Mes','Ano']].value_counts().plot();"
   ]
  },
  {
   "cell_type": "code",
   "execution_count": 204,
   "metadata": {},
   "outputs": [
    {
     "data": {
      "text/plain": [
       "Mes  Ano \n",
       "8    2001    48812\n",
       "     2004    47138\n",
       "     2003    44514\n",
       "7    2003    44486\n",
       "     2004    44216\n",
       "             ...  \n",
       "1    2014    18574\n",
       "2    2018    18012\n",
       "     2014    17848\n",
       "6    2018    17664\n",
       "2    2015    16674\n",
       "Length: 210, dtype: int64"
      ]
     },
     "execution_count": 204,
     "metadata": {},
     "output_type": "execute_result"
    }
   ],
   "source": [
    "df[['Mes','Ano']].value_counts()"
   ]
  },
  {
   "cell_type": "code",
   "execution_count": 206,
   "metadata": {},
   "outputs": [
    {
     "data": {
      "text/plain": [
       "48812"
      ]
     },
     "execution_count": 206,
     "metadata": {},
     "output_type": "execute_result"
    }
   ],
   "source": [
    "df[['Mes','Ano']].value_counts().max()"
   ]
  },
  {
   "cell_type": "code",
   "execution_count": null,
   "metadata": {},
   "outputs": [],
   "source": []
  },
  {
   "cell_type": "markdown",
   "metadata": {},
   "source": [
    "## Mês com a maior média de ocorrência de crimes?\n"
   ]
  },
  {
   "cell_type": "code",
   "execution_count": 210,
   "metadata": {},
   "outputs": [
    {
     "data": {
      "text/html": [
       "<div>\n",
       "<style scoped>\n",
       "    .dataframe tbody tr th:only-of-type {\n",
       "        vertical-align: middle;\n",
       "    }\n",
       "\n",
       "    .dataframe tbody tr th {\n",
       "        vertical-align: top;\n",
       "    }\n",
       "\n",
       "    .dataframe thead th {\n",
       "        text-align: right;\n",
       "    }\n",
       "</style>\n",
       "<table border=\"1\" class=\"dataframe\">\n",
       "  <thead>\n",
       "    <tr style=\"text-align: right;\">\n",
       "      <th></th>\n",
       "      <th>Mes</th>\n",
       "      <th>Ano</th>\n",
       "    </tr>\n",
       "  </thead>\n",
       "  <tbody>\n",
       "    <tr>\n",
       "      <th>0</th>\n",
       "      <td>3</td>\n",
       "      <td>2015</td>\n",
       "    </tr>\n",
       "    <tr>\n",
       "      <th>1</th>\n",
       "      <td>3</td>\n",
       "      <td>2015</td>\n",
       "    </tr>\n",
       "    <tr>\n",
       "      <th>2</th>\n",
       "      <td>3</td>\n",
       "      <td>2015</td>\n",
       "    </tr>\n",
       "    <tr>\n",
       "      <th>3</th>\n",
       "      <td>3</td>\n",
       "      <td>2015</td>\n",
       "    </tr>\n",
       "    <tr>\n",
       "      <th>4</th>\n",
       "      <td>3</td>\n",
       "      <td>2015</td>\n",
       "    </tr>\n",
       "    <tr>\n",
       "      <th>...</th>\n",
       "      <td>...</td>\n",
       "      <td>...</td>\n",
       "    </tr>\n",
       "    <tr>\n",
       "      <th>6705407</th>\n",
       "      <td>2</td>\n",
       "      <td>2018</td>\n",
       "    </tr>\n",
       "    <tr>\n",
       "      <th>6705408</th>\n",
       "      <td>1</td>\n",
       "      <td>2018</td>\n",
       "    </tr>\n",
       "    <tr>\n",
       "      <th>6705409</th>\n",
       "      <td>1</td>\n",
       "      <td>2018</td>\n",
       "    </tr>\n",
       "    <tr>\n",
       "      <th>6705410</th>\n",
       "      <td>2</td>\n",
       "      <td>2018</td>\n",
       "    </tr>\n",
       "    <tr>\n",
       "      <th>6705411</th>\n",
       "      <td>2</td>\n",
       "      <td>2018</td>\n",
       "    </tr>\n",
       "  </tbody>\n",
       "</table>\n",
       "<p>6705412 rows × 2 columns</p>\n",
       "</div>"
      ],
      "text/plain": [
       "         Mes   Ano\n",
       "0          3  2015\n",
       "1          3  2015\n",
       "2          3  2015\n",
       "3          3  2015\n",
       "4          3  2015\n",
       "...      ...   ...\n",
       "6705407    2  2018\n",
       "6705408    1  2018\n",
       "6705409    1  2018\n",
       "6705410    2  2018\n",
       "6705411    2  2018\n",
       "\n",
       "[6705412 rows x 2 columns]"
      ]
     },
     "execution_count": 210,
     "metadata": {},
     "output_type": "execute_result"
    }
   ],
   "source": [
    "df[['Mes','Ano']]"
   ]
  },
  {
   "cell_type": "code",
   "execution_count": null,
   "metadata": {},
   "outputs": [],
   "source": []
  },
  {
   "cell_type": "markdown",
   "metadata": {},
   "source": [
    "## Mês por ano com a maior ocorrência de crimes?\n"
   ]
  },
  {
   "cell_type": "code",
   "execution_count": null,
   "metadata": {},
   "outputs": [],
   "source": []
  },
  {
   "cell_type": "code",
   "execution_count": null,
   "metadata": {},
   "outputs": [],
   "source": []
  },
  {
   "cell_type": "markdown",
   "metadata": {},
   "source": [
    "## Mês com a maior ocorrência de crimes do tipo DECEPTIVE PRACTICE?\n"
   ]
  },
  {
   "cell_type": "code",
   "execution_count": null,
   "metadata": {},
   "outputs": [],
   "source": []
  },
  {
   "cell_type": "code",
   "execution_count": null,
   "metadata": {},
   "outputs": [],
   "source": []
  },
  {
   "cell_type": "code",
   "execution_count": null,
   "metadata": {},
   "outputs": [],
   "source": []
  },
  {
   "cell_type": "markdown",
   "metadata": {},
   "source": [
    "## Dia do ano com a maior ocorrência de crimes?\n"
   ]
  },
  {
   "cell_type": "code",
   "execution_count": null,
   "metadata": {},
   "outputs": [],
   "source": []
  },
  {
   "cell_type": "code",
   "execution_count": null,
   "metadata": {},
   "outputs": [],
   "source": []
  },
  {
   "cell_type": "code",
   "execution_count": null,
   "metadata": {},
   "outputs": [],
   "source": []
  },
  {
   "cell_type": "code",
   "execution_count": null,
   "metadata": {},
   "outputs": [],
   "source": []
  }
 ],
 "metadata": {
  "kernelspec": {
   "display_name": "Python 3",
   "language": "python",
   "name": "python3"
  },
  "language_info": {
   "codemirror_mode": {
    "name": "ipython",
    "version": 3
   },
   "file_extension": ".py",
   "mimetype": "text/x-python",
   "name": "python",
   "nbconvert_exporter": "python",
   "pygments_lexer": "ipython3",
   "version": "3.7.0"
  }
 },
 "nbformat": 4,
 "nbformat_minor": 4
}
