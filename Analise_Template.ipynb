{
 "cells": [
  {
   "cell_type": "markdown",
   "metadata": {},
   "source": [
    "### Test Check PySpark"
   ]
  },
  {
   "cell_type": "code",
   "execution_count": 3,
   "metadata": {},
   "outputs": [],
   "source": [
    "\n",
    "import os \n",
    "os.environ['PYSPARK_PYTHON'] = '/usr/bin/python3.7'\n",
    "\n",
    "PYSPARK_PYTHON = /usr/bin/python3.7\n",
    "PYSPARK_DRIVER_PYTHON = /usr/bin/python3.7\n",
    "os.environ['PYSPARK_DRIVER_PYTHON'] = '/usr/bin/python3.7'"
   ]
  },
  {
   "cell_type": "code",
   "execution_count": null,
   "metadata": {},
   "outputs": [],
   "source": [
    "!wget https://gitlab.com/juanmanoel/dataset-atp-big-data-frameworks/-/raw/master/ocorrencias_criminais_corrigida.csv"
   ]
  },
  {
   "cell_type": "markdown",
   "metadata": {},
   "source": [
    "## Analise Exploratoria - Dataset Ocorrencias Criminais\n"
   ]
  },
  {
   "cell_type": "markdown",
   "metadata": {},
   "source": [
    "## Dicionario de Dados\n",
    "\n",
    "O dicionário de dados deste dataset é declarado a seguir:\n",
    "Campo \t\n",
    "\n",
    "| Campo | DESCRIÇÃO |\n",
    "|-------|-----------|\n",
    "| Dia   |  Dia da ocorrência     |\n",
    "| Mes   |  Mes da ocorrência     |\n",
    "| Ano   |  Ano da ocorrência     |\n",
    "| Bloco |Região da ocorrência  |   Região da ocorrência \n",
    "| Tipo  |  Tipo da ocorrência criminal \n",
    "| Descrição |   Breve descrição da ocorrência \n",
    "| Descrição da localização | Descrição da localização da ocorrência (rua, por exemplo) \n",
    "| Latitude |   Localização da ocorrência \n",
    "| Longitude |  Localização da ocorrência "
   ]
  },
  {
   "cell_type": "code",
   "execution_count": 2,
   "metadata": {},
   "outputs": [],
   "source": [
    "from pyspark.sql import SparkSession\n",
    "spark = SparkSession.builder.appName(\"ATP Analise Exploratoria\").config(\"spark.some.config.option\",\"some-value\").getOrCreate()"
   ]
  },
  {
   "cell_type": "code",
   "execution_count": 4,
   "metadata": {},
   "outputs": [],
   "source": [
    "from pyspark import SparkContext\n",
    "sc = SparkContext"
   ]
  },
  {
   "cell_type": "code",
   "execution_count": 17,
   "metadata": {},
   "outputs": [],
   "source": [
    "# USE APENAS QUANDO NÃO TIVER RODANDO NO SERVIDOR LOCAL\n",
    "#!wget -c  https://gitlab.com/juanmanoel/dataset-atp-big-data-frameworks/-/raw/master/ocorrencias_criminais_corrigida.csv"
   ]
  },
  {
   "cell_type": "code",
   "execution_count": 20,
   "metadata": {},
   "outputs": [],
   "source": [
    "df = spark.read.option(\"header\",True).csv(\"/home2/ead2021/SEM1/juan.manoel/ocorrencias_criminais_corrigida.csv\")"
   ]
  },
  {
   "cell_type": "markdown",
   "metadata": {},
   "source": [
    "##### Analise Dataframe entendimento da tabela"
   ]
  },
  {
   "cell_type": "code",
   "execution_count": 8,
   "metadata": {},
   "outputs": [
    {
     "name": "stdout",
     "output_type": "stream",
     "text": [
      "+---+---+----+--------------------+--------------------+--------------------+------------------------+------------+-------------+\n",
      "|Dia|Mes| Ano|               Bloco|                Tipo|           Descricao|Descrição_da_localizacao|    Latitude|    Longitude|\n",
      "+---+---+----+--------------------+--------------------+--------------------+------------------------+------------+-------------+\n",
      "| 18|  3|2015|     047XX W OHIO ST|             BATTERY| AGGRAVATED: HANDGUN|                  STREET|41.891398861|-87.744384567|\n",
      "| 18|  3|2015|066XX S MARSHFIEL...|       OTHER OFFENSE|    PAROLE VIOLATION|                  STREET|41.773371528|-87.665319468|\n",
      "| 18|  3|2015|044XX S LAKE PARK...|             BATTERY|DOMESTIC BATTERY ...|               APARTMENT| 41.81386068|-87.596642837|\n",
      "| 18|  3|2015|051XX S MICHIGAN AVE|             BATTERY|              SIMPLE|               APARTMENT|41.800802415|-87.622619343|\n",
      "| 18|  3|2015|    047XX W ADAMS ST|             ROBBERY|      ARMED: HANDGUN|                SIDEWALK|41.878064761|-87.743354013|\n",
      "| 18|  3|2015| 049XX S DREXEL BLVD|             BATTERY|              SIMPLE|               APARTMENT|41.805443345|-87.604283976|\n",
      "| 18|  3|2015|   070XX S MORGAN ST|             BATTERY|DOMESTIC BATTERY ...|               APARTMENT|41.766402779|-87.649296123|\n",
      "| 18|  3|2015| 042XX S PRAIRIE AVE|             BATTERY|DOMESTIC BATTERY ...|               APARTMENT|41.817552577|-87.619818523|\n",
      "| 18|  3|2015| 036XX S WOLCOTT AVE|           NARCOTICS|POSS: CANNABIS 30...|                  STREET|41.828138428|-87.672782106|\n",
      "| 18|  3|2015| 097XX S PRAIRIE AVE|             BATTERY|              SIMPLE|    RESIDENCE PORCH/H...| 41.71745472|-87.617663257|\n",
      "| 18|  3|2015|130XX S DR MARTIN...|     CRIMINAL DAMAGE|          TO VEHICLE|    PARKING LOT/GARAG...|41.658138493|-87.613672862|\n",
      "| 15|  3|2015|078XX S VINCENNES...|       OTHER OFFENSE|HARASSMENT BY TEL...|    CTA GARAGE / OTHE...|41.752406801|-87.633792381|\n",
      "| 18|  3|2015|086XX S EXCHANGE AVE|   WEAPONS VIOLATION|UNLAWFUL POSS OF ...|    DRIVEWAY - RESIDE...|41.738563465|-87.552678593|\n",
      "| 18|  3|2015| 014XX S ASHLAND AVE|             BATTERY|              SIMPLE|                SIDEWALK| 41.86304084|-87.666288555|\n",
      "| 18|  3|2015| 051XX W CHICAGO AVE|               THEFT|        RETAIL THEFT|             GAS STATION|41.894945606|-87.754874977|\n",
      "| 18|  3|2015|077XX S KINGSTON AVE|            BURGLARY|      FORCIBLE ENTRY|               APARTMENT|41.754602618|-87.562650741|\n",
      "| 18|  3|2015|   024XX W NORTH AVE| MOTOR VEHICLE THEFT|          AUTOMOBILE|                   OTHER|41.910312648|-87.687806494|\n",
      "| 18|  3|2015| 069XX S LOOMIS BLVD|               THEFT|       FROM BUILDING|      GROCERY FOOD STORE|41.768167414|-87.659053795|\n",
      "| 18|  3|2015|105XX S LAFAYETTE...|PUBLIC PEACE VIOL...|    RECKLESS CONDUCT|                   ALLEY| 41.70284845|-87.624588931|\n",
      "| 18|  3|2015| 087XX S KIMBARK AVE|               THEFT|       FROM BUILDING|           BAR OR TAVERN|41.736588206| -87.59299436|\n",
      "+---+---+----+--------------------+--------------------+--------------------+------------------------+------------+-------------+\n",
      "only showing top 20 rows\n",
      "\n"
     ]
    }
   ],
   "source": [
    "df.show()"
   ]
  },
  {
   "cell_type": "code",
   "execution_count": 9,
   "metadata": {},
   "outputs": [],
   "source": [
    "from pyspark.sql import functions as F\n",
    "from pyspark.sql.types import IntegerType\n",
    "from pyspark.sql.functions import col, avg\n",
    "import pyspark.sql.functions as func\n",
    "from pyspark.sql.functions import countDistinct, avg, stddev"
   ]
  },
  {
   "cell_type": "markdown",
   "metadata": {},
   "source": [
    "## Quantidade de crimes por ano?\n",
    "----\n",
    "\n",
    "* Usando Select para formatar a data da coluna Ano e definindo meu alias para Ano\n",
    "* Em seguida passei o agrupamento por Ano \n",
    "* contei os ocorridos por ano."
   ]
  },
  {
   "cell_type": "code",
   "execution_count": 1,
   "metadata": {},
   "outputs": [],
   "source": [
    "# coloque suas respostas aqui "
   ]
  },
  {
   "cell_type": "markdown",
   "metadata": {},
   "source": [
    "## Quantidade de crimes por ano que sejam do tipo NARCOTICS?\n",
    "---\n",
    "\n",
    "#### Crie uma View temporaria em memoria com o dataframe "
   ]
  },
  {
   "cell_type": "code",
   "execution_count": 11,
   "metadata": {},
   "outputs": [],
   "source": [
    "# coloque suas respostas aqui "
   ]
  },
  {
   "cell_type": "markdown",
   "metadata": {},
   "source": [
    "#### Usando SQL para afzer as querys \n",
    "\n",
    "* Primeiro defini meu target(ano)\n",
    "* Depois passei um count(*) para pegar todas as ocorrencias \n",
    "* Como Condicional passei o tipo da ocorrencias NARCOTICS \n",
    "* Agrupando por Ano e Ordenando por Ano"
   ]
  },
  {
   "cell_type": "code",
   "execution_count": 12,
   "metadata": {},
   "outputs": [],
   "source": [
    "# coloque suas respostas aqui  \n",
    "# coloque suas respostas aqui "
   ]
  },
  {
   "cell_type": "code",
   "execution_count": null,
   "metadata": {},
   "outputs": [],
   "source": []
  },
  {
   "cell_type": "markdown",
   "metadata": {},
   "source": [
    "## Quantidade de crimes por ano que sejam do tipo NARCOTICS e tenham ocorrido em dias pares?\n",
    "---\n",
    "* Primeiro defini meu target(ano)\n",
    "* Depois passei um count(*) para pegar todas as ocorrencias \n",
    "* Como Condicional passei o tipo da ocorrencias NARCOTICS \n",
    "* Agrupando por Ano e Ordenando por Ano\n",
    "* Passei o boolean type AND com o Parametro Dia % 2 == 0\n"
   ]
  },
  {
   "cell_type": "code",
   "execution_count": 14,
   "metadata": {},
   "outputs": [],
   "source": [
    "# coloque suas respostas aqui "
   ]
  },
  {
   "cell_type": "code",
   "execution_count": 2,
   "metadata": {},
   "outputs": [],
   "source": [
    "# coloque suas respostas aqui "
   ]
  },
  {
   "cell_type": "markdown",
   "metadata": {},
   "source": [
    "## Mês com maior ocorrência de crimes?\n",
    "----\n",
    "\n",
    "Passei o Parametro Mes dentro da subquery contando o numero de linhas dos Mes e chamando de ocorrencias com isso agrupei por Mes e ordenei para apresentar de ordem descendente, limitando apenas 1 unico valor de saida"
   ]
  },
  {
   "cell_type": "code",
   "execution_count": 3,
   "metadata": {},
   "outputs": [],
   "source": [
    "# coloque suas respostas aqui "
   ]
  },
  {
   "cell_type": "markdown",
   "metadata": {},
   "source": [
    "## Mês com a maior média de ocorrência de crimes?\n",
    "----\n",
    "\n",
    "Aqui fiz 4 querys \n",
    "\n",
    "* 1 - Para agrupar por mes a media score das ocorrencias \n",
    "* 2 - A segunda pega o maximo valor dessa avg_ocorrencias \n",
    "* 3 - Faz um select de mes, AVG(total_linhas) agrupando por Mes \n",
    "* 4 - Ultima query ele pega os Valores Maximos de Mes, e Avg_ocorre, usando condicional where para passar a segunda query com condição para avg_ocorre = MAX valor da média"
   ]
  },
  {
   "cell_type": "code",
   "execution_count": 4,
   "metadata": {},
   "outputs": [],
   "source": [
    "# coloque suas respostas aqui "
   ]
  },
  {
   "cell_type": "code",
   "execution_count": 5,
   "metadata": {},
   "outputs": [],
   "source": [
    "# coloque suas respostas aqui "
   ]
  },
  {
   "cell_type": "code",
   "execution_count": 6,
   "metadata": {},
   "outputs": [],
   "source": [
    "# coloque suas respostas aqui "
   ]
  },
  {
   "cell_type": "markdown",
   "metadata": {},
   "source": [
    "## Mês por ano com a maior ocorrência de crimes?\n",
    "\n",
    "---\n",
    "\n",
    "* Aqui passei um groubBy(mes) para grupar por mes\n",
    "* Em Seguida passei um agregador agg para o valor Max do Ano\n",
    "* Limitando apenas uma unica saida "
   ]
  },
  {
   "cell_type": "code",
   "execution_count": 7,
   "metadata": {},
   "outputs": [],
   "source": [
    "# coloque suas respostas aqui "
   ]
  },
  {
   "cell_type": "markdown",
   "metadata": {},
   "source": [
    "## Mês com a maior ocorrência de crimes do tipo DECEPTIVE PRACTICE?\n",
    "---\n",
    "\n",
    "Aqui pensei que poderia rodar um test checando pelo pyspark e tambem com sql para validar as duas saidas\n",
    "\n",
    "\n",
    "A Primeira DF_DECEPTIVE_PRACTICE passei um filter para pegar apenas os tipos DECEPTIVE PRACTICE \n",
    "\n",
    "Em Seguida agrupei Mes e Ano usando agregação para contar o as vezes que os dados da coluna mes aparece chamando de Mes_ocorr"
   ]
  },
  {
   "cell_type": "code",
   "execution_count": 8,
   "metadata": {},
   "outputs": [],
   "source": [
    "# coloque suas respostas aqui "
   ]
  },
  {
   "cell_type": "markdown",
   "metadata": {},
   "source": [
    "Com a DF criado passei os parametros MAX em todas as dimenções de atenção da tabela(Mes, Ano, Mes_Ocorr)"
   ]
  },
  {
   "cell_type": "code",
   "execution_count": 9,
   "metadata": {},
   "outputs": [],
   "source": [
    "# coloque suas respostas aqui "
   ]
  },
  {
   "cell_type": "markdown",
   "metadata": {},
   "source": [
    "### Validação com SQL\n",
    "\n",
    "Com o dado do dataframe pensei em passar pelo sql para validar a saida dos dados pela query a baixo\n",
    "\n",
    "Passei um MAX(mes, Mes_, Ano) e em uma subquery passei os parametros e Mes,Ano e Count(Mes)\n",
    "\n",
    "Usando WHERE passei o tipo do dado buscado e agrupei por Mes e Ano"
   ]
  },
  {
   "cell_type": "code",
   "execution_count": 10,
   "metadata": {},
   "outputs": [],
   "source": [
    "# coloque suas respostas aqui "
   ]
  },
  {
   "cell_type": "markdown",
   "metadata": {},
   "source": [
    "## Dia do ano com a maior ocorrência de crimes?\n",
    "\n",
    "----\n",
    "\n",
    "PS: Por falha e erro jo job não consegui rodar essa query\n",
    "\n",
    "Contudo a ideia era agrupar Mes, Ano e Dia e ordenar por ocorrencias e com isso fazer um count do mes"
   ]
  },
  {
   "cell_type": "code",
   "execution_count": 11,
   "metadata": {},
   "outputs": [],
   "source": [
    "# coloque suas respostas aqui "
   ]
  },
  {
   "cell_type": "code",
   "execution_count": null,
   "metadata": {},
   "outputs": [],
   "source": []
  },
  {
   "cell_type": "code",
   "execution_count": null,
   "metadata": {},
   "outputs": [],
   "source": []
  }
 ],
 "metadata": {
  "kernelspec": {
   "display_name": "Python 3",
   "language": "python",
   "name": "python3"
  },
  "language_info": {
   "codemirror_mode": {
    "name": "ipython",
    "version": 3
   },
   "file_extension": ".py",
   "mimetype": "text/x-python",
   "name": "python",
   "nbconvert_exporter": "python",
   "pygments_lexer": "ipython3",
   "version": "3.8.5"
  }
 },
 "nbformat": 4,
 "nbformat_minor": 4
}
